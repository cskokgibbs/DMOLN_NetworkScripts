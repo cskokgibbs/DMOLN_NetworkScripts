{
 "cells": [
  {
   "cell_type": "code",
   "execution_count": 1,
   "id": "a5bbbfb9",
   "metadata": {},
   "outputs": [],
   "source": [
    "import matplotlib.pyplot as plt\n",
    "import pandas as pd\n",
    "import numpy as np\n",
    "import cairocffi\n",
    "import scanpy as sc\n",
    "import scipy.io as scio\n",
    "import csv\n",
    "import scipy.sparse as sparse\n",
    "from scipy.sparse import csr_matrix\n",
    "from scipy.sparse import isspmatrix\n",
    "from matplotlib.backends.backend_pdf import PdfPages\n",
    "from functions import * # code by Giuseppe-Antonio Saldi\n",
    "from sklearn import preprocessing"
   ]
  },
  {
   "cell_type": "code",
   "execution_count": 2,
   "id": "ba084ea0",
   "metadata": {},
   "outputs": [],
   "source": [
    "# functions\n",
    "def read_betas(t, cardinal_class, boot_path, n_boot=10):\n",
    "    return {'boot_{}'.format(b): pd.read_table(\n",
    "            boot_path.format(t=t, b=b),\n",
    "            index_col=0,header=0) for b in range(1, n_boot+1)}\n",
    "\n",
    "\n",
    "def B_dot_A(B, A, n_boot):\n",
    "    acc = B['boot_1']\n",
    "    for i in range(2, n_boot+1):\n",
    "        acc += B['boot_{}'.format(i)]\n",
    "    return acc.dot(A.T) / n_boot"
   ]
  },
  {
   "cell_type": "markdown",
   "id": "1cbd8708",
   "metadata": {},
   "source": [
    "# Hr3 Expression Reconstruction"
   ]
  },
  {
   "cell_type": "code",
   "execution_count": 48,
   "id": "fcfad1ab",
   "metadata": {},
   "outputs": [],
   "source": [
    "Hr3_expression_sc = sc.read_h5ad(\"Reconstruction_input/Hr3_SeuratNormalized_sparse_expression.h5ad\")\n",
    "Hr3_expression_df = Hr3_expression_sc.to_df().T"
   ]
  },
  {
   "cell_type": "markdown",
   "id": "097800d7",
   "metadata": {},
   "source": [
    "### MergedDA "
   ]
  },
  {
   "cell_type": "code",
   "execution_count": 49,
   "id": "1f7d134b",
   "metadata": {},
   "outputs": [],
   "source": [
    "TFA_MergedDA = {'Hr3_MergedDA': pd.read_table(\"Reconstruction_input//Hr3_ControlAndRNAi_MergedDA_SeuratNormalized_TFA.tsv\", index_col=0, header=0)}"
   ]
  },
  {
   "cell_type": "code",
   "execution_count": 50,
   "id": "e5b97f5d",
   "metadata": {},
   "outputs": [],
   "source": [
    "# read in betas for the first (0th) task\n",
    "MergedDA_betas = {}\n",
    "# t is tasks and b is bootstrap, they will be set in read_betas \n",
    "path = 'Reconstruction_input/Lamina_betas/Lamina_MergedDA_Norm2_betas_task_{t}_boot_{b}.tsv'\n",
    "MergedDA_betas['Zip_MergedDA_betas'] = read_betas(0, 'Zip_MergedDA_betas', path, n_boot=5)"
   ]
  },
  {
   "cell_type": "code",
   "execution_count": 51,
   "id": "f5d74921",
   "metadata": {},
   "outputs": [],
   "source": [
    "# making sure we have matrices that are compatible on the TF dimension\n",
    "TFA_MergedDA = TFA_MergedDA['Hr3_MergedDA'][TFA_MergedDA['Hr3_MergedDA'].columns[TFA_MergedDA['Hr3_MergedDA'].columns.isin(MergedDA_betas['Zip_MergedDA_betas']['boot_1'].columns)]]\n",
    "\n",
    "# computing dot product across 5 bootstraps\n",
    "MergedDA_avg = B_dot_A(MergedDA_betas['Zip_MergedDA_betas'], TFA_MergedDA, 5)"
   ]
  },
  {
   "cell_type": "code",
   "execution_count": 52,
   "id": "33b6e025",
   "metadata": {},
   "outputs": [
    {
     "name": "stdout",
     "output_type": "stream",
     "text": [
      "(1682, 1537)\n"
     ]
    }
   ],
   "source": [
    "# sanity checking dimensions\n",
    "print(MergedDA_avg.shape)"
   ]
  },
  {
   "cell_type": "code",
   "execution_count": 53,
   "id": "07a2eac6",
   "metadata": {},
   "outputs": [],
   "source": [
    "MergedDA_genes_list = MergedDA_avg.index.tolist()"
   ]
  },
  {
   "cell_type": "code",
   "execution_count": 54,
   "id": "ed5bb949",
   "metadata": {},
   "outputs": [],
   "source": [
    "# re-indexing input expression to contain only genes in reconstruction\n",
    "Hr3_MergedDA_expression_reindexed = Hr3_expression_df[Hr3_expression_df.index.isin(MergedDA_genes_list)]"
   ]
  },
  {
   "cell_type": "code",
   "execution_count": 68,
   "id": "32a015ae",
   "metadata": {},
   "outputs": [
    {
     "name": "stdout",
     "output_type": "stream",
     "text": [
      "(1680, 1537)\n"
     ]
    }
   ],
   "source": [
    "# sanity check dimensions again\n",
    "print(Hr3_MergedDA_expression_reindexed.shape)"
   ]
  },
  {
   "cell_type": "code",
   "execution_count": 69,
   "id": "b55c7950",
   "metadata": {},
   "outputs": [],
   "source": [
    "# re-index reconstructed expression to match input-expression dimensions\n",
    "Hr3_MergedDA_reconstructed_genes = Hr3_MergedDA_expression_reindexed.index.tolist()"
   ]
  },
  {
   "cell_type": "code",
   "execution_count": 70,
   "id": "4c3871b7",
   "metadata": {},
   "outputs": [],
   "source": [
    "Hr3_MergedDA_reconstructed_reindexed = Hr3_MergedDA_expression_reindexed[Hr3_MergedDA_expression_reindexed.index.isin(Hr3_MergedDA_reconstructed_genes)]"
   ]
  },
  {
   "cell_type": "code",
   "execution_count": 71,
   "id": "214a3bb9",
   "metadata": {},
   "outputs": [
    {
     "name": "stdout",
     "output_type": "stream",
     "text": [
      "(1680, 1537)\n"
     ]
    }
   ],
   "source": [
    "print(Hr3_MergedDA_reconstructed_reindexed.shape)"
   ]
  },
  {
   "cell_type": "code",
   "execution_count": 59,
   "id": "39ccc830",
   "metadata": {},
   "outputs": [],
   "source": [
    "# save re-indexed input expression\n",
    "Hr3_MergedDA_expression_reindexed.to_csv(\"Reconstruction_output/Hr3_inputexpression_MergedDA_reindexed.tsv\", sep = '\\t')\n",
    "# save re-indexed reconstructed expression\n",
    "Hr3_MergedDA_reconstructed_reindexed.to_csv(\"Reconstruction_output/Hr3_reconstructed_MergedDA_reindexed.tsv\", sep = '\\t')\n"
   ]
  },
  {
   "cell_type": "markdown",
   "id": "6425081e",
   "metadata": {},
   "source": [
    "### ChromA"
   ]
  },
  {
   "cell_type": "code",
   "execution_count": 60,
   "id": "93ea7adc",
   "metadata": {},
   "outputs": [],
   "source": [
    "TFA_ChromA = {'Hr3_ChromA': pd.read_table(\"Reconstruction_input/Hr3_ControlAndRNAi_ChromA_SeuratNormalized_TFA.tsv\", index_col=0, header=0)}"
   ]
  },
  {
   "cell_type": "code",
   "execution_count": 61,
   "id": "f04665a4",
   "metadata": {},
   "outputs": [],
   "source": [
    "# read in betas for the first (0th) task\n",
    "ChromA_betas = {}\n",
    "# t is tasks and b is bootstrap, they will be set in read_betas \n",
    "path = 'Reconstruction_input/Lamina_betas/Lamina_ChromA_Norm2_betas_task_{t}_boot_{b}.tsv'\n",
    "ChromA_betas['Zip_ChromA_betas'] = read_betas(0, 'Zip_ChromA_betas', path, n_boot=5)"
   ]
  },
  {
   "cell_type": "code",
   "execution_count": 62,
   "id": "84faaf81",
   "metadata": {},
   "outputs": [],
   "source": [
    "# making sure we have matrices that are compatible on the TF dimension\n",
    "TFA_ChromA = TFA_ChromA['Hr3_ChromA'][TFA_ChromA['Hr3_ChromA'].columns[TFA_ChromA['Hr3_ChromA'].columns.isin(ChromA_betas['Zip_ChromA_betas']['boot_1'].columns)]]\n",
    "\n",
    "# computing dot product across 5 bootstraps\n",
    "ChromA_avg = B_dot_A(ChromA_betas['Zip_ChromA_betas'], TFA_ChromA, 5)"
   ]
  },
  {
   "cell_type": "code",
   "execution_count": 63,
   "id": "2862323b",
   "metadata": {},
   "outputs": [
    {
     "name": "stdout",
     "output_type": "stream",
     "text": [
      "(1682, 1537)\n"
     ]
    }
   ],
   "source": [
    "# sanity checking dimensions\n",
    "print(ChromA_avg.shape)"
   ]
  },
  {
   "cell_type": "code",
   "execution_count": 64,
   "id": "5a0b669a",
   "metadata": {},
   "outputs": [],
   "source": [
    "ChromA_genes_list = ChromA_avg.index.tolist()"
   ]
  },
  {
   "cell_type": "code",
   "execution_count": 65,
   "id": "87752a8e",
   "metadata": {},
   "outputs": [],
   "source": [
    "# re-indexing input expression to contain only genes in reconstruction\n",
    "Hr3_ChromA_expression_reindexed = Hr3_expression_df[Hr3_expression_df.index.isin(ChromA_genes_list)]"
   ]
  },
  {
   "cell_type": "code",
   "execution_count": 66,
   "id": "b429d71a",
   "metadata": {},
   "outputs": [
    {
     "name": "stdout",
     "output_type": "stream",
     "text": [
      "(1680, 1537)\n"
     ]
    }
   ],
   "source": [
    "# sanity check dimensions again\n",
    "print(Hr3_ChromA_expression_reindexed.shape)"
   ]
  },
  {
   "cell_type": "code",
   "execution_count": 72,
   "id": "977a5bff",
   "metadata": {},
   "outputs": [],
   "source": [
    "# re-index reconstructed expression to match input-expression dimensions\n",
    "Hr3_ChromA_reconstructed_genes = Hr3_ChromA_expression_reindexed.index.tolist()"
   ]
  },
  {
   "cell_type": "code",
   "execution_count": 73,
   "id": "342c0288",
   "metadata": {},
   "outputs": [],
   "source": [
    "Hr3_ChromA_reconstructed_reindexed = Hr3_ChromA_expression_reindexed[Hr3_ChromA_expression_reindexed.index.isin(Hr3_ChromA_reconstructed_genes)]"
   ]
  },
  {
   "cell_type": "code",
   "execution_count": 74,
   "id": "69846889",
   "metadata": {},
   "outputs": [
    {
     "name": "stdout",
     "output_type": "stream",
     "text": [
      "(1680, 1537)\n"
     ]
    }
   ],
   "source": [
    "print(Hr3_ChromA_reconstructed_reindexed.shape)"
   ]
  },
  {
   "cell_type": "code",
   "execution_count": 75,
   "id": "b50325a8",
   "metadata": {},
   "outputs": [],
   "source": [
    "# save re-indexed input expression\n",
    "Hr3_ChromA_expression_reindexed.to_csv(\"Reconstruction_output/Hr3_inputexpression_ChromA_reindexed.tsv\", sep = '\\t')\n",
    "# save re-indexed reconstructed expression\n",
    "Hr3_ChromA_reconstructed_reindexed.to_csv(\"Reconstruction_output/Hr3_reconstructed_ChromA_reindexed.tsv\", sep = '\\t')\n"
   ]
  },
  {
   "cell_type": "markdown",
   "id": "5b6a7144",
   "metadata": {},
   "source": [
    "### No Bed"
   ]
  },
  {
   "cell_type": "code",
   "execution_count": 76,
   "id": "1a8afb6d",
   "metadata": {},
   "outputs": [],
   "source": [
    "TFA_NoBed = {'Hr3_NoBed': pd.read_table(\"Reconstruction_input/Hr3_ControlAndRNAi_NoBed_SeuratNormalized_TFA.tsv\", index_col=0, header=0)}"
   ]
  },
  {
   "cell_type": "code",
   "execution_count": 77,
   "id": "ee7346a8",
   "metadata": {},
   "outputs": [],
   "source": [
    "# read in betas for the first (0th) task\n",
    "NoBed_betas = {}\n",
    "# t is tasks and b is bootstrap, they will be set in read_betas \n",
    "path = 'Reconstruction_input/Lamina_betas/Lamina_NoBed_Norm2_betas_task_{t}_boot_{b}.tsv'\n",
    "NoBed_betas['Zip_NoBed_betas'] = read_betas(0, 'Zip_NoBed_betas', path, n_boot=5)"
   ]
  },
  {
   "cell_type": "code",
   "execution_count": 78,
   "id": "9c8ffe2f",
   "metadata": {},
   "outputs": [],
   "source": [
    "# making sure we have matrices that are compatible on the TF dimension\n",
    "TFA_NoBed = TFA_NoBed['Hr3_NoBed'][TFA_NoBed['Hr3_NoBed'].columns[TFA_NoBed['Hr3_NoBed'].columns.isin(NoBed_betas['Zip_NoBed_betas']['boot_1'].columns)]]\n",
    "\n",
    "# computing dot product across 5 bootstraps\n",
    "NoBed_avg = B_dot_A(NoBed_betas['Zip_NoBed_betas'], TFA_NoBed, 5)"
   ]
  },
  {
   "cell_type": "code",
   "execution_count": 79,
   "id": "102afd34",
   "metadata": {},
   "outputs": [
    {
     "name": "stdout",
     "output_type": "stream",
     "text": [
      "(1682, 1537)\n"
     ]
    }
   ],
   "source": [
    "# sanity checking dimensions\n",
    "print(NoBed_avg.shape)"
   ]
  },
  {
   "cell_type": "code",
   "execution_count": 80,
   "id": "4b18a030",
   "metadata": {},
   "outputs": [],
   "source": [
    "NoBed_genes_list = NoBed_avg.index.tolist()"
   ]
  },
  {
   "cell_type": "code",
   "execution_count": 81,
   "id": "58e43f0f",
   "metadata": {},
   "outputs": [],
   "source": [
    "# re-indexing input expression to contain only genes in reconstruction\n",
    "Hr3_NoBed_expression_reindexed = Hr3_expression_df[Hr3_expression_df.index.isin(NoBed_genes_list)]"
   ]
  },
  {
   "cell_type": "code",
   "execution_count": 82,
   "id": "6e65bef0",
   "metadata": {},
   "outputs": [
    {
     "name": "stdout",
     "output_type": "stream",
     "text": [
      "(1680, 1537)\n"
     ]
    }
   ],
   "source": [
    "# sanity check dimensions again\n",
    "print(Hr3_NoBed_expression_reindexed.shape)"
   ]
  },
  {
   "cell_type": "code",
   "execution_count": 83,
   "id": "a4e44197",
   "metadata": {},
   "outputs": [],
   "source": [
    "# re-index reconstructed expression to match input-expression dimensions\n",
    "Hr3_NoBed_reconstructed_genes = Hr3_NoBed_expression_reindexed.index.tolist()"
   ]
  },
  {
   "cell_type": "code",
   "execution_count": 84,
   "id": "ad8dc7bb",
   "metadata": {},
   "outputs": [],
   "source": [
    "Hr3_NoBed_reconstructed_reindexed = Hr3_NoBed_expression_reindexed[Hr3_NoBed_expression_reindexed.index.isin(Hr3_NoBed_reconstructed_genes)]"
   ]
  },
  {
   "cell_type": "code",
   "execution_count": 85,
   "id": "53eac7fe",
   "metadata": {},
   "outputs": [
    {
     "name": "stdout",
     "output_type": "stream",
     "text": [
      "(1680, 1537)\n"
     ]
    }
   ],
   "source": [
    "print(Hr3_NoBed_reconstructed_reindexed.shape)"
   ]
  },
  {
   "cell_type": "code",
   "execution_count": 86,
   "id": "1c0363c8",
   "metadata": {},
   "outputs": [],
   "source": [
    "# save re-indexed input expression\n",
    "Hr3_NoBed_expression_reindexed.to_csv(\"Reconstruction_output/Hr3_inputexpression_NoBed_reindexed.tsv\", sep = '\\t')\n",
    "# save re-indexed reconstructed expression\n",
    "Hr3_NoBed_reconstructed_reindexed.to_csv(\"Reconstruction_output/Hr3_reconstructed_NoBed_reindexed.tsv\", sep = '\\t')\n"
   ]
  },
  {
   "cell_type": "markdown",
   "id": "0918be87",
   "metadata": {},
   "source": [
    "# Erm Expression Reconstruction"
   ]
  },
  {
   "cell_type": "code",
   "execution_count": 87,
   "id": "47a7f92b",
   "metadata": {},
   "outputs": [],
   "source": [
    "# read input expression\n",
    "Erm_expression_sc = sc.read_h5ad(\"Reconstruction_input/Erm_SeuratNormalized_sparse_expression.h5ad\")\n",
    "Erm_expression_df = Erm_expression_sc.to_df().T"
   ]
  },
  {
   "cell_type": "markdown",
   "id": "b18c97fd",
   "metadata": {},
   "source": [
    "### MergedDA"
   ]
  },
  {
   "cell_type": "code",
   "execution_count": 88,
   "id": "bbf8e24d",
   "metadata": {},
   "outputs": [],
   "source": [
    "TFA_MergedDA = {'Erm_MergedDA': pd.read_table(\"Reconstruction_input/Erm_ControlAndRNAi_MergedDA_SeuratNormalized_TFA.tsv\", index_col=0, header=0)}"
   ]
  },
  {
   "cell_type": "code",
   "execution_count": 90,
   "id": "44fff6f8",
   "metadata": {},
   "outputs": [],
   "source": [
    "# read in betas for the first (1st) task\n",
    "MergedDA_betas = {}\n",
    "# t is tasks and b is bootstrap, they will be set in read_betas \n",
    "# TFs {'ap', 'dve'} removed from betas to align with TFA\n",
    "path = 'Reconstruction_input/Lamina_betas/Lamina_MergedDA_Norm2_betas_task_{t}_boot_{b}_droppedtfs.tsv'\n",
    "MergedDA_betas['Des_MergedDA_betas'] = read_betas(1, 'Des_MergedDA_betas', path, n_boot=5)"
   ]
  },
  {
   "cell_type": "code",
   "execution_count": 91,
   "id": "99e1f3f2",
   "metadata": {},
   "outputs": [],
   "source": [
    "# making sure we have matrices that are compatible on the TF dimension\n",
    "TFA_MergedDA = TFA_MergedDA['Erm_MergedDA'][TFA_MergedDA['Erm_MergedDA'].columns[TFA_MergedDA['Erm_MergedDA'].columns.isin(MergedDA_betas['Des_MergedDA_betas']['boot_1'].columns)]]\n",
    "\n",
    "# computing dot product across 5 bootstraps\n",
    "MergedDA_avg = B_dot_A(MergedDA_betas['Des_MergedDA_betas'], TFA_MergedDA, 5)"
   ]
  },
  {
   "cell_type": "code",
   "execution_count": 92,
   "id": "646a2824",
   "metadata": {},
   "outputs": [
    {
     "name": "stdout",
     "output_type": "stream",
     "text": [
      "(1682, 1000)\n"
     ]
    }
   ],
   "source": [
    "# sanity checking dimensions\n",
    "print(MergedDA_avg.shape)"
   ]
  },
  {
   "cell_type": "code",
   "execution_count": 93,
   "id": "df9ff442",
   "metadata": {},
   "outputs": [],
   "source": [
    "MergedDA_genes_list = MergedDA_avg.index.tolist()"
   ]
  },
  {
   "cell_type": "code",
   "execution_count": 94,
   "id": "b7d531b9",
   "metadata": {},
   "outputs": [],
   "source": [
    "# re-indexing input expression to contain only genes in reconstruction\n",
    "Erm_MergedDA_expression_reindexed = Erm_expression_df[Erm_expression_df.index.isin(MergedDA_genes_list)]"
   ]
  },
  {
   "cell_type": "code",
   "execution_count": 95,
   "id": "368fa107",
   "metadata": {},
   "outputs": [
    {
     "name": "stdout",
     "output_type": "stream",
     "text": [
      "(1590, 1000)\n"
     ]
    }
   ],
   "source": [
    "# sanity check dimensions again\n",
    "print(Erm_MergedDA_expression_reindexed.shape)"
   ]
  },
  {
   "cell_type": "code",
   "execution_count": 98,
   "id": "ef43db18",
   "metadata": {},
   "outputs": [],
   "source": [
    "# re-index reconstructed expression to match input-expression dimensions\n",
    "Erm_MergedDA_reconstructed_genes = Erm_MergedDA_expression_reindexed.index.tolist()"
   ]
  },
  {
   "cell_type": "code",
   "execution_count": 99,
   "id": "b203ae44",
   "metadata": {},
   "outputs": [],
   "source": [
    "Erm_MergedDA_reconstructed_reindexed = Erm_MergedDA_expression_reindexed[Erm_MergedDA_expression_reindexed.index.isin(Erm_MergedDA_reconstructed_genes)]"
   ]
  },
  {
   "cell_type": "code",
   "execution_count": 100,
   "id": "fbe6f3b9",
   "metadata": {},
   "outputs": [
    {
     "name": "stdout",
     "output_type": "stream",
     "text": [
      "(1590, 1000)\n"
     ]
    }
   ],
   "source": [
    "print(Erm_MergedDA_reconstructed_reindexed.shape)"
   ]
  },
  {
   "cell_type": "code",
   "execution_count": 101,
   "id": "5e24e001",
   "metadata": {},
   "outputs": [],
   "source": [
    "# save re-indexed input expression\n",
    "Erm_MergedDA_expression_reindexed.to_csv(\"Reconstruction_output/Erm_inputexpression_MergedDA_reindexed.tsv\", sep = '\\t')\n",
    "# save re-indexed reconstructed expression\n",
    "Erm_MergedDA_reconstructed_reindexed.to_csv(\"Reconstruction_output/Erm_reconstructed_MergedDA_reindexed.tsv\", sep = '\\t')\n"
   ]
  },
  {
   "cell_type": "markdown",
   "id": "db81feca",
   "metadata": {},
   "source": [
    "### ChromA"
   ]
  },
  {
   "cell_type": "code",
   "execution_count": 102,
   "id": "13870196",
   "metadata": {},
   "outputs": [],
   "source": [
    "TFA_ChromA = {'Erm_ChromA': pd.read_table(\"Reconstruction_input/Erm_ControlAndRNAi_ChromA_SeuratNormalized_TFA.tsv\", index_col=0, header=0)}"
   ]
  },
  {
   "cell_type": "code",
   "execution_count": 103,
   "id": "b228ad73",
   "metadata": {},
   "outputs": [],
   "source": [
    "# read in betas for the first (1st) task\n",
    "ChromA_betas = {}\n",
    "# t is tasks and b is bootstrap, they will be set in read_betas \n",
    "path = 'Reconstruction_input/Lamina_betas/Lamina_ChromA_Norm2_betas_task_{t}_boot_{b}.tsv'\n",
    "ChromA_betas['Des_ChromA_betas'] = read_betas(1, 'Des_ChromA_betas', path, n_boot=5)"
   ]
  },
  {
   "cell_type": "code",
   "execution_count": 104,
   "id": "fd432718",
   "metadata": {},
   "outputs": [],
   "source": [
    "# making sure we have matrices that are compatible on the TF dimension\n",
    "TFA_ChromA = TFA_ChromA['Erm_ChromA'][TFA_ChromA['Erm_ChromA'].columns[TFA_ChromA['Erm_ChromA'].columns.isin(ChromA_betas['Des_ChromA_betas']['boot_1'].columns)]]\n",
    "\n",
    "# computing dot product across 5 bootstraps\n",
    "ChromA_avg = B_dot_A(ChromA_betas['Des_ChromA_betas'], TFA_ChromA, 5)"
   ]
  },
  {
   "cell_type": "code",
   "execution_count": 105,
   "id": "9aa57ccf",
   "metadata": {},
   "outputs": [
    {
     "name": "stdout",
     "output_type": "stream",
     "text": [
      "(1682, 1000)\n"
     ]
    }
   ],
   "source": [
    "# sanity checking dimensions\n",
    "print(ChromA_avg.shape)"
   ]
  },
  {
   "cell_type": "code",
   "execution_count": 106,
   "id": "f2ea863a",
   "metadata": {},
   "outputs": [],
   "source": [
    "ChromA_genes_list = ChromA_avg.index.tolist()"
   ]
  },
  {
   "cell_type": "code",
   "execution_count": 107,
   "id": "f1f0e131",
   "metadata": {},
   "outputs": [],
   "source": [
    "# re-indexing input expression to contain only genes in reconstruction\n",
    "Erm_ChromA_expression_reindexed = Erm_expression_df[Erm_expression_df.index.isin(ChromA_genes_list)]"
   ]
  },
  {
   "cell_type": "code",
   "execution_count": 108,
   "id": "2782d7a1",
   "metadata": {},
   "outputs": [
    {
     "name": "stdout",
     "output_type": "stream",
     "text": [
      "(1590, 1000)\n"
     ]
    }
   ],
   "source": [
    "# sanity check dimensions again\n",
    "print(Erm_ChromA_expression_reindexed.shape)"
   ]
  },
  {
   "cell_type": "code",
   "execution_count": 109,
   "id": "4e849ff0",
   "metadata": {},
   "outputs": [],
   "source": [
    "# re-index reconstructed expression to match input-expression dimensions\n",
    "Erm_ChromA_reconstructed_genes = Erm_ChromA_expression_reindexed.index.tolist()"
   ]
  },
  {
   "cell_type": "code",
   "execution_count": 110,
   "id": "0a6a6552",
   "metadata": {},
   "outputs": [],
   "source": [
    "Erm_ChromA_reconstructed_reindexed = Erm_ChromA_expression_reindexed[Erm_ChromA_expression_reindexed.index.isin(Erm_ChromA_reconstructed_genes)]"
   ]
  },
  {
   "cell_type": "code",
   "execution_count": 111,
   "id": "5e837452",
   "metadata": {},
   "outputs": [
    {
     "name": "stdout",
     "output_type": "stream",
     "text": [
      "(1590, 1000)\n"
     ]
    }
   ],
   "source": [
    "print(Erm_ChromA_reconstructed_reindexed.shape)"
   ]
  },
  {
   "cell_type": "code",
   "execution_count": 112,
   "id": "58029eaa",
   "metadata": {},
   "outputs": [],
   "source": [
    "# save re-indexed input expression\n",
    "Erm_ChromA_expression_reindexed.to_csv(\"Reconstruction_output/Erm_inputexpression_ChromA_reindexed.tsv\", sep = '\\t')\n",
    "# save re-indexed reconstructed expression\n",
    "Erm_ChromA_reconstructed_reindexed.to_csv(\"Reconstruction_output/Erm_reconstructed_ChromA_reindexed.tsv\", sep = '\\t')\n"
   ]
  },
  {
   "cell_type": "markdown",
   "id": "1e199076",
   "metadata": {},
   "source": [
    "### No Bed"
   ]
  },
  {
   "cell_type": "code",
   "execution_count": 113,
   "id": "7bb5aa3f",
   "metadata": {},
   "outputs": [],
   "source": [
    "TFA_NoBed = {'Erm_NoBed': pd.read_table(\"Reconstruction_input/Erm_ControlAndRNAi_NoBed_SeuratNormalized_TFA.tsv\", index_col=0, header=0)}"
   ]
  },
  {
   "cell_type": "code",
   "execution_count": 114,
   "id": "20d84323",
   "metadata": {},
   "outputs": [],
   "source": [
    "# read in betas for the first (0th) task\n",
    "NoBed_betas = {}\n",
    "# t is tasks and b is bootstrap, they will be set in read_betas \n",
    "# TFs {'E(spl)m7-HLH', 'E(spl)m8-HLH', 'bsh'} removed from betas to align with TFA\n",
    "path = 'Reconstruction_input/Lamina_betas/Lamina_NoBed_Norm2_betas_task_{t}_boot_{b}_droppedtfs.tsv'\n",
    "NoBed_betas['Des_NoBed_betas'] = read_betas(1, 'Des_NoBed_betas', path, n_boot=5)"
   ]
  },
  {
   "cell_type": "code",
   "execution_count": 115,
   "id": "ba1f8763",
   "metadata": {},
   "outputs": [],
   "source": [
    "# making sure we have matrices that are compatible on the TF dimension\n",
    "TFA_NoBed = TFA_NoBed['Erm_NoBed'][TFA_NoBed['Erm_NoBed'].columns[TFA_NoBed['Erm_NoBed'].columns.isin(NoBed_betas['Des_NoBed_betas']['boot_1'].columns)]]\n",
    "\n",
    "# computing dot product across 5 bootstraps\n",
    "NoBed_avg = B_dot_A(NoBed_betas['Des_NoBed_betas'], TFA_NoBed, 5)"
   ]
  },
  {
   "cell_type": "code",
   "execution_count": 116,
   "id": "74eed158",
   "metadata": {},
   "outputs": [
    {
     "name": "stdout",
     "output_type": "stream",
     "text": [
      "(1682, 1000)\n"
     ]
    }
   ],
   "source": [
    "# sanity checking dimensions\n",
    "print(NoBed_avg.shape)"
   ]
  },
  {
   "cell_type": "code",
   "execution_count": 117,
   "id": "024482eb",
   "metadata": {},
   "outputs": [],
   "source": [
    "NoBed_genes_list = NoBed_avg.index.tolist()"
   ]
  },
  {
   "cell_type": "code",
   "execution_count": 118,
   "id": "922051c3",
   "metadata": {},
   "outputs": [],
   "source": [
    "# re-indexing input expression to contain only genes in reconstruction\n",
    "Erm_NoBed_expression_reindexed = Erm_expression_df[Erm_expression_df.index.isin(NoBed_genes_list)]"
   ]
  },
  {
   "cell_type": "code",
   "execution_count": 119,
   "id": "76c27954",
   "metadata": {},
   "outputs": [
    {
     "name": "stdout",
     "output_type": "stream",
     "text": [
      "(1590, 1000)\n"
     ]
    }
   ],
   "source": [
    "# sanity check dimensions again\n",
    "print(Erm_NoBed_expression_reindexed.shape)"
   ]
  },
  {
   "cell_type": "code",
   "execution_count": 120,
   "id": "1bcc982a",
   "metadata": {},
   "outputs": [],
   "source": [
    "# re-index reconstructed expression to match input-expression dimensions\n",
    "Erm_NoBed_reconstructed_genes = Erm_NoBed_expression_reindexed.index.tolist()"
   ]
  },
  {
   "cell_type": "code",
   "execution_count": 121,
   "id": "05b46afd",
   "metadata": {},
   "outputs": [],
   "source": [
    "Erm_NoBed_reconstructed_reindexed = Erm_NoBed_expression_reindexed[Erm_NoBed_expression_reindexed.index.isin(Erm_NoBed_reconstructed_genes)]"
   ]
  },
  {
   "cell_type": "code",
   "execution_count": 122,
   "id": "25a38ad4",
   "metadata": {},
   "outputs": [
    {
     "name": "stdout",
     "output_type": "stream",
     "text": [
      "(1590, 1000)\n"
     ]
    }
   ],
   "source": [
    "print(Erm_NoBed_reconstructed_reindexed.shape)"
   ]
  },
  {
   "cell_type": "code",
   "execution_count": 123,
   "id": "c7b57fca",
   "metadata": {},
   "outputs": [],
   "source": [
    "# save re-indexed input expression\n",
    "Erm_NoBed_expression_reindexed.to_csv(\"Reconstruction_output/Erm_inputexpression_NoBed_reindexed.tsv\", sep = '\\t')\n",
    "# save re-indexed reconstructed expression\n",
    "Erm_NoBed_reconstructed_reindexed.to_csv(\"Reconstruction_output/Erm_reconstructed_NoBed_reindexed.tsv\", sep = '\\t')\n"
   ]
  },
  {
   "cell_type": "markdown",
   "id": "d31246bf",
   "metadata": {},
   "source": [
    "# Pdm3 Expression Reconstruction"
   ]
  },
  {
   "cell_type": "code",
   "execution_count": 125,
   "id": "73325950",
   "metadata": {},
   "outputs": [],
   "source": [
    "# read input expression\n",
    "pdm3_expression_sc = sc.read_h5ad(\"Reconstruction_input/pdm3_SeuratNormalized_sparse_expression.h5ad\")\n",
    "pdm3_expression_df = pdm3_expression_sc.to_df().T"
   ]
  },
  {
   "cell_type": "markdown",
   "id": "0137f68c",
   "metadata": {},
   "source": [
    "### MergedDA"
   ]
  },
  {
   "cell_type": "code",
   "execution_count": 126,
   "id": "1da442cd",
   "metadata": {},
   "outputs": [],
   "source": [
    "TFA_MergedDA = {'pdm3_MergedDA': pd.read_table(\"Reconstruction_input/Pdm3_ControlAndRNAi_MergedDA_SeuratNormalized_TFA.tsv\", index_col=0, header=0)}"
   ]
  },
  {
   "cell_type": "code",
   "execution_count": 127,
   "id": "7ed873bf",
   "metadata": {},
   "outputs": [],
   "source": [
    "# read in betas for the first (0th) task\n",
    "MergedDA_betas = {}\n",
    "# t is tasks and b is bootstrap, they will be set in read_betas \n",
    "path = 'Reconstruction_input/Tm_betas/Tm_MergedDA_norm2_betas_task_{t}_boot_{b}.tsv'\n",
    "MergedDA_betas['Zip_MergedDA_betas'] = read_betas(0, 'Zip_MergedDA_betas', path, n_boot=5)"
   ]
  },
  {
   "cell_type": "code",
   "execution_count": 128,
   "id": "6e12722b",
   "metadata": {},
   "outputs": [],
   "source": [
    "# making sure we have matrices that are compatible on the TF dimension\n",
    "TFA_MergedDA = TFA_MergedDA['pdm3_MergedDA'][TFA_MergedDA['pdm3_MergedDA'].columns[TFA_MergedDA['pdm3_MergedDA'].columns.isin(MergedDA_betas['Zip_MergedDA_betas']['boot_1'].columns)]]\n",
    "\n",
    "# computing dot product across 5 bootstraps\n",
    "MergedDA_avg = B_dot_A(MergedDA_betas['Zip_MergedDA_betas'], TFA_MergedDA, 5)"
   ]
  },
  {
   "cell_type": "code",
   "execution_count": 129,
   "id": "21a4eb4e",
   "metadata": {},
   "outputs": [
    {
     "name": "stdout",
     "output_type": "stream",
     "text": [
      "(1394, 1779)\n"
     ]
    }
   ],
   "source": [
    "# sanity checking dimensions\n",
    "print(MergedDA_avg.shape)"
   ]
  },
  {
   "cell_type": "code",
   "execution_count": 130,
   "id": "ea9c9a97",
   "metadata": {},
   "outputs": [],
   "source": [
    "MergedDA_genes_list = MergedDA_avg.index.tolist()"
   ]
  },
  {
   "cell_type": "code",
   "execution_count": 131,
   "id": "12506177",
   "metadata": {},
   "outputs": [],
   "source": [
    "# re-indexing input expression to contain only genes in reconstruction\n",
    "pdm3_MergedDA_expression_reindexed = pdm3_expression_df[pdm3_expression_df.index.isin(MergedDA_genes_list)]"
   ]
  },
  {
   "cell_type": "code",
   "execution_count": 132,
   "id": "f8d6524c",
   "metadata": {},
   "outputs": [
    {
     "name": "stdout",
     "output_type": "stream",
     "text": [
      "(1392, 1779)\n"
     ]
    }
   ],
   "source": [
    "# sanity check dimensions again\n",
    "print(pdm3_MergedDA_expression_reindexed.shape)"
   ]
  },
  {
   "cell_type": "code",
   "execution_count": 133,
   "id": "c7c8157d",
   "metadata": {},
   "outputs": [],
   "source": [
    "# re-index reconstructed expression to match input-expression dimensions\n",
    "pdm3_MergedDA_reconstructed_genes = pdm3_MergedDA_expression_reindexed.index.tolist()"
   ]
  },
  {
   "cell_type": "code",
   "execution_count": 134,
   "id": "c46fe23f",
   "metadata": {},
   "outputs": [],
   "source": [
    "pdm3_MergedDA_reconstructed_reindexed = pdm3_MergedDA_expression_reindexed[pdm3_MergedDA_expression_reindexed.index.isin(pdm3_MergedDA_reconstructed_genes)]"
   ]
  },
  {
   "cell_type": "code",
   "execution_count": 135,
   "id": "b7b29f61",
   "metadata": {},
   "outputs": [
    {
     "name": "stdout",
     "output_type": "stream",
     "text": [
      "(1392, 1779)\n"
     ]
    }
   ],
   "source": [
    "print(pdm3_MergedDA_reconstructed_reindexed.shape)"
   ]
  },
  {
   "cell_type": "code",
   "execution_count": 136,
   "id": "0c18a54a",
   "metadata": {},
   "outputs": [],
   "source": [
    "# save re-indexed input expression\n",
    "pdm3_MergedDA_expression_reindexed.to_csv(\"Reconstruction_output/pdm3_inputexpression_MergedDA_reindexed.tsv\", sep = '\\t')\n",
    "# save re-indexed reconstructed expression\n",
    "pdm3_MergedDA_reconstructed_reindexed.to_csv(\"Reconstruction_output/pdm3_reconstructed_MergedDA_reindexed.tsv\", sep = '\\t')\n"
   ]
  },
  {
   "cell_type": "markdown",
   "id": "b63eba69",
   "metadata": {},
   "source": [
    "### ChromA"
   ]
  },
  {
   "cell_type": "code",
   "execution_count": 137,
   "id": "0a722384",
   "metadata": {},
   "outputs": [],
   "source": [
    "TFA_ChromA = {'Pdm3_ChromA': pd.read_table(\"Reconstruction_input/Pdm3_ControlAndRNAi_ChromA_SeuratNormalized_TFA.tsv\", index_col=0, header=0)}"
   ]
  },
  {
   "cell_type": "code",
   "execution_count": 138,
   "id": "f35f21ac",
   "metadata": {},
   "outputs": [],
   "source": [
    "# read in betas for the first (0th) task\n",
    "ChromA_betas = {}\n",
    "# t is tasks and b is bootstrap, they will be set in read_betas \n",
    "path = 'Reconstruction_input/Tm_betas/Tm_ChromA_norm2_betas_task_{t}_boot_{b}.tsv'\n",
    "ChromA_betas['Zip_ChromA_betas'] = read_betas(0, 'Zip_ChromA_betas', path, n_boot=5)"
   ]
  },
  {
   "cell_type": "code",
   "execution_count": 139,
   "id": "560fbebb",
   "metadata": {},
   "outputs": [],
   "source": [
    "# making sure we have matrices that are compatible on the TF dimension\n",
    "TFA_ChromA = TFA_ChromA['Pdm3_ChromA'][TFA_ChromA['Pdm3_ChromA'].columns[TFA_ChromA['Pdm3_ChromA'].columns.isin(ChromA_betas['Zip_ChromA_betas']['boot_1'].columns)]]\n",
    "\n",
    "# computing dot product across 5 bootstraps\n",
    "ChromA_avg = B_dot_A(ChromA_betas['Zip_ChromA_betas'], TFA_ChromA, 5)"
   ]
  },
  {
   "cell_type": "code",
   "execution_count": 140,
   "id": "924fdb33",
   "metadata": {},
   "outputs": [
    {
     "name": "stdout",
     "output_type": "stream",
     "text": [
      "(1394, 1779)\n"
     ]
    }
   ],
   "source": [
    "# sanity checking dimensions\n",
    "print(ChromA_avg.shape)"
   ]
  },
  {
   "cell_type": "code",
   "execution_count": 141,
   "id": "92a68e9c",
   "metadata": {},
   "outputs": [],
   "source": [
    "ChromA_genes_list = ChromA_avg.index.tolist()"
   ]
  },
  {
   "cell_type": "code",
   "execution_count": 142,
   "id": "82ec8758",
   "metadata": {},
   "outputs": [],
   "source": [
    "# re-indexing input expression to contain only genes in reconstruction\n",
    "pdm3_ChromA_expression_reindexed = pdm3_expression_df[pdm3_expression_df.index.isin(ChromA_genes_list)]"
   ]
  },
  {
   "cell_type": "code",
   "execution_count": 143,
   "id": "fe46c0ea",
   "metadata": {},
   "outputs": [
    {
     "name": "stdout",
     "output_type": "stream",
     "text": [
      "(1392, 1779)\n"
     ]
    }
   ],
   "source": [
    "# sanity check dimensions again\n",
    "print(pdm3_ChromA_expression_reindexed.shape)"
   ]
  },
  {
   "cell_type": "code",
   "execution_count": 144,
   "id": "3d2ce789",
   "metadata": {},
   "outputs": [],
   "source": [
    "# re-index reconstructed expression to match input-expression dimensions\n",
    "pdm3_ChromA_reconstructed_genes = pdm3_ChromA_expression_reindexed.index.tolist()"
   ]
  },
  {
   "cell_type": "code",
   "execution_count": 145,
   "id": "5007fe2d",
   "metadata": {},
   "outputs": [],
   "source": [
    "pdm3_ChromA_reconstructed_reindexed = pdm3_ChromA_expression_reindexed[pdm3_ChromA_expression_reindexed.index.isin(pdm3_ChromA_reconstructed_genes)]"
   ]
  },
  {
   "cell_type": "code",
   "execution_count": 146,
   "id": "00108b57",
   "metadata": {},
   "outputs": [
    {
     "name": "stdout",
     "output_type": "stream",
     "text": [
      "(1392, 1779)\n"
     ]
    }
   ],
   "source": [
    "print(pdm3_ChromA_reconstructed_reindexed.shape)"
   ]
  },
  {
   "cell_type": "code",
   "execution_count": 147,
   "id": "5d01a562",
   "metadata": {},
   "outputs": [],
   "source": [
    "# save re-indexed input expression\n",
    "pdm3_ChromA_expression_reindexed.to_csv(\"Reconstruction_output/pdm3_inputexpression_ChromA_reindexed.tsv\", sep = '\\t')\n",
    "# save re-indexed reconstructed expression\n",
    "pdm3_ChromA_reconstructed_reindexed.to_csv(\"Reconstruction_output/pdm3_reconstructed_ChromA_reindexed.tsv\", sep = '\\t')\n"
   ]
  },
  {
   "cell_type": "markdown",
   "id": "8e4ec9ef",
   "metadata": {},
   "source": [
    "### No Bed"
   ]
  },
  {
   "cell_type": "code",
   "execution_count": 148,
   "id": "6aa6c8b6",
   "metadata": {},
   "outputs": [],
   "source": [
    "TFA_NoBed = {'pdm3_NoBed': pd.read_table(\"Reconstruction_input/Pdm3_ControlAndRNAi_NoBed_SeuratNormalized_TFA.tsv\", index_col=0, header=0)}"
   ]
  },
  {
   "cell_type": "code",
   "execution_count": 149,
   "id": "4916c53a",
   "metadata": {},
   "outputs": [],
   "source": [
    "# read in betas for the first (0th) task\n",
    "NoBed_betas = {}\n",
    "# t is tasks and b is bootstrap, they will be set in read_betas \n",
    "path = 'Reconstruction_input/Tm_betas/Tm_NoBed_norm2_betas_task_{t}_boot_{b}.tsv'\n",
    "NoBed_betas['Zip_NoBed_betas'] = read_betas(0, 'Zip_NoBed_betas', path, n_boot=5)"
   ]
  },
  {
   "cell_type": "code",
   "execution_count": 150,
   "id": "30990cae",
   "metadata": {},
   "outputs": [],
   "source": [
    "# making sure we have matrices that are compatible on the TF dimension\n",
    "TFA_NoBed = TFA_NoBed['pdm3_NoBed'][TFA_NoBed['pdm3_NoBed'].columns[TFA_NoBed['pdm3_NoBed'].columns.isin(NoBed_betas['Zip_NoBed_betas']['boot_1'].columns)]]\n",
    "\n",
    "# computing dot product across 5 bootstraps\n",
    "NoBed_avg = B_dot_A(NoBed_betas['Zip_NoBed_betas'], TFA_NoBed, 5)"
   ]
  },
  {
   "cell_type": "code",
   "execution_count": 151,
   "id": "d95f9f59",
   "metadata": {},
   "outputs": [
    {
     "name": "stdout",
     "output_type": "stream",
     "text": [
      "(1394, 1779)\n"
     ]
    }
   ],
   "source": [
    "# sanity checking dimensions\n",
    "print(NoBed_avg.shape)"
   ]
  },
  {
   "cell_type": "code",
   "execution_count": 152,
   "id": "3033ba48",
   "metadata": {},
   "outputs": [],
   "source": [
    "NoBed_genes_list = NoBed_avg.index.tolist()"
   ]
  },
  {
   "cell_type": "code",
   "execution_count": 153,
   "id": "9c6b223a",
   "metadata": {},
   "outputs": [],
   "source": [
    "# re-indexing input expression to contain only genes in reconstruction\n",
    "pdm3_NoBed_expression_reindexed = pdm3_expression_df[pdm3_expression_df.index.isin(NoBed_genes_list)]"
   ]
  },
  {
   "cell_type": "code",
   "execution_count": 154,
   "id": "b659878e",
   "metadata": {},
   "outputs": [
    {
     "name": "stdout",
     "output_type": "stream",
     "text": [
      "(1392, 1779)\n"
     ]
    }
   ],
   "source": [
    "# sanity check dimensions again\n",
    "print(pdm3_NoBed_expression_reindexed.shape)"
   ]
  },
  {
   "cell_type": "code",
   "execution_count": 155,
   "id": "c7d2ff3d",
   "metadata": {},
   "outputs": [],
   "source": [
    "# re-index reconstructed expression to match input-expression dimensions\n",
    "pdm3_NoBed_reconstructed_genes = pdm3_NoBed_expression_reindexed.index.tolist()"
   ]
  },
  {
   "cell_type": "code",
   "execution_count": 156,
   "id": "c9f167dc",
   "metadata": {},
   "outputs": [],
   "source": [
    "pdm3_NoBed_reconstructed_reindexed = pdm3_NoBed_expression_reindexed[pdm3_NoBed_expression_reindexed.index.isin(pdm3_NoBed_reconstructed_genes)]"
   ]
  },
  {
   "cell_type": "code",
   "execution_count": 157,
   "id": "60b97d0f",
   "metadata": {},
   "outputs": [
    {
     "name": "stdout",
     "output_type": "stream",
     "text": [
      "(1392, 1779)\n"
     ]
    }
   ],
   "source": [
    "print(pdm3_NoBed_reconstructed_reindexed.shape)"
   ]
  },
  {
   "cell_type": "code",
   "execution_count": 158,
   "id": "1d7797d2",
   "metadata": {},
   "outputs": [],
   "source": [
    "# save re-indexed input expression\n",
    "pdm3_NoBed_expression_reindexed.to_csv(\"Reconstruction_output/pdm3_inputexpression_NoBed_reindexed.tsv\", sep = '\\t')\n",
    "# save re-indexed reconstructed expression\n",
    "pdm3_NoBed_reconstructed_reindexed.to_csv(\"Reconstruction_output/pdm3_reconstructed_NoBed_reindexed.tsv\", sep = '\\t')\n"
   ]
  },
  {
   "cell_type": "code",
   "execution_count": null,
   "id": "b4261b3f",
   "metadata": {},
   "outputs": [],
   "source": []
  }
 ],
 "metadata": {
  "kernelspec": {
   "display_name": "Python 3",
   "language": "python",
   "name": "python3"
  },
  "language_info": {
   "codemirror_mode": {
    "name": "ipython",
    "version": 3
   },
   "file_extension": ".py",
   "mimetype": "text/x-python",
   "name": "python",
   "nbconvert_exporter": "python",
   "pygments_lexer": "ipython3",
   "version": "3.8.8"
  }
 },
 "nbformat": 4,
 "nbformat_minor": 5
}
